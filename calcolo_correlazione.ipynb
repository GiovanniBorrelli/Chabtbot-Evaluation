{
  "nbformat": 4,
  "nbformat_minor": 0,
  "metadata": {
    "colab": {
      "provenance": [],
      "authorship_tag": "ABX9TyPcMMQcjrk+1C+Y3NmyQlYi",
      "include_colab_link": true
    },
    "kernelspec": {
      "name": "python3",
      "display_name": "Python 3"
    },
    "language_info": {
      "name": "python"
    }
  },
  "cells": [
    {
      "cell_type": "markdown",
      "metadata": {
        "id": "view-in-github",
        "colab_type": "text"
      },
      "source": [
        "<a href=\"https://colab.research.google.com/github/GiovanniBorrelli/Chabtbot-Evaluation/blob/main/calcolo_correlazione.ipynb\" target=\"_parent\"><img src=\"https://colab.research.google.com/assets/colab-badge.svg\" alt=\"Open In Colab\"/></a>"
      ]
    },
    {
      "cell_type": "code",
      "execution_count": 1,
      "metadata": {
        "colab": {
          "base_uri": "https://localhost:8080/"
        },
        "id": "U6EZqDbrRfl1",
        "outputId": "ac9a40eb-c53f-4d5e-9afd-0c0b8191dd75"
      },
      "outputs": [
        {
          "output_type": "stream",
          "name": "stdout",
          "text": [
            "Pearson Correlation: 0.1825\n",
            "Spearman Correlation: 0.1743\n",
            "Kendall-Tau Correlation: 0.1214\n"
          ]
        }
      ],
      "source": [
        "import pandas as pd\n",
        "import scipy.stats as stats\n",
        "\n",
        "# Leggere il file Excel\n",
        "df = pd.read_excel('LamaTest1Prob(Yes).xlsx')  # Sostituisci 'XXX.xlsx' con il nome effettivo del file\n",
        "\n",
        "# Controllare se le colonne 'overall' e 'Prob(Yes)' esistono\n",
        "if 'overall' in df.columns and 'Prob(Yes)' in df.columns:\n",
        "    # Calcolare le correlazioni\n",
        "    pearson_corr, _ = stats.pearsonr(df['overall'], df['Prob(Yes)'])\n",
        "    spearman_corr, _ = stats.spearmanr(df['overall'], df['Prob(Yes)'])\n",
        "    kendall_corr, _ = stats.kendalltau(df['overall'], df['Prob(Yes)'])\n",
        "\n",
        "    # Stampare i risultati\n",
        "    print(f\"Pearson Correlation: {pearson_corr:.4f}\")\n",
        "    print(f\"Spearman Correlation: {spearman_corr:.4f}\")\n",
        "    print(f\"Kendall-Tau Correlation: {kendall_corr:.4f}\")\n",
        "else:\n",
        "    print(\"Errore: Il file Excel deve contenere le colonne 'overall' e 'Prob(Yes)'\")\n"
      ]
    }
  ]
}
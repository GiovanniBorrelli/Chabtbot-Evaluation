{
  "nbformat": 4,
  "nbformat_minor": 0,
  "metadata": {
    "colab": {
      "provenance": [],
      "include_colab_link": true
    },
    "kernelspec": {
      "name": "python3",
      "display_name": "Python 3"
    },
    "language_info": {
      "name": "python"
    }
  },
  "cells": [
    {
      "cell_type": "markdown",
      "metadata": {
        "id": "view-in-github",
        "colab_type": "text"
      },
      "source": [
        "<a href=\"https://colab.research.google.com/github/GiovanniBorrelli/Chabtbot-Evaluation/blob/main/calcolo_correlazione.ipynb\" target=\"_parent\"><img src=\"https://colab.research.google.com/assets/colab-badge.svg\" alt=\"Open In Colab\"/></a>"
      ]
    },
    {
      "cell_type": "code",
      "source": [
        "import pandas as pd\n",
        "import scipy.stats as stats\n",
        "\n",
        "# Leggere il file Excel\n",
        "df = pd.read_excel('LamaTest2.xlsx')\n",
        "\n",
        "# Controllare se le colonne esistono\n",
        "if 'eval_score' in df.columns and 'Prob(Yes)' in df.columns:\n",
        "    # Rimuovere righe con NaN o valori infiniti\n",
        "    df = df[['eval_score', 'Prob(Yes)']].replace([float('inf'), float('-inf')], pd.NA).dropna()\n",
        "\n",
        "    # Verifica che ci siano dati sufficienti\n",
        "    if len(df) > 1:\n",
        "        # Calcolare le correlazioni\n",
        "        pearson_corr, _ = stats.pearsonr(df['eval_score'], df['Prob(Yes)'])\n",
        "        spearman_corr, _ = stats.spearmanr(df['eval_score'], df['Prob(Yes)'])\n",
        "        kendall_corr, _ = stats.kendalltau(df['eval_score'], df['Prob(Yes)'])\n",
        "\n",
        "        # Stampare i risultati\n",
        "        print(f\"Pearson Correlation: {pearson_corr:.4f}\")\n",
        "        print(f\"Spearman Correlation: {spearman_corr:.4f}\")\n",
        "        print(f\"Kendall-Tau Correlation: {kendall_corr:.4f}\")\n",
        "    else:\n",
        "        print(\"Errore: Dati insufficienti dopo la pulizia (meno di 2 righe valide).\")\n",
        "else:\n",
        "    print(\"Errore: Il file Excel deve contenere le colonne 'eval_score' e 'Prob(Yes)'\")\n"
      ],
      "metadata": {
        "colab": {
          "base_uri": "https://localhost:8080/"
        },
        "id": "RSo2DfC5L-ex",
        "outputId": "7da25e2e-0f05-4a2c-8f38-b91cadf615f2"
      },
      "execution_count": 3,
      "outputs": [
        {
          "output_type": "stream",
          "name": "stdout",
          "text": [
            "Pearson Correlation: 0.1646\n",
            "Spearman Correlation: 0.1423\n",
            "Kendall-Tau Correlation: 0.1020\n"
          ]
        }
      ]
    },
    {
      "cell_type": "code",
      "execution_count": null,
      "metadata": {
        "id": "U6EZqDbrRfl1"
      },
      "outputs": [],
      "source": [
        "import pandas as pd\n",
        "import scipy.stats as stats\n",
        "\n",
        "# Leggere il file Excel\n",
        "df = pd.read_excel('LamaTest1Prob(Yes).xlsx')  # Sostituisci 'XXX.xlsx' con il nome effettivo del file\n",
        "\n",
        "# Controllare se le colonne 'eval_score' e 'Prob(Yes)' esistono\n",
        "if 'overall' in df.columns and 'Prob(Yes)' in df.columns:\n",
        "    # Calcolare le correlazioni\n",
        "    pearson_corr, _ = stats.pearsonr(df['overall'], df['Prob(Yes)'])\n",
        "    spearman_corr, _ = stats.spearmanr(df['overall'], df['Prob(Yes)'])\n",
        "    kendall_corr, _ = stats.kendalltau(df['overall'], df['Prob(Yes)'])\n",
        "\n",
        "    # Stampare i risultati\n",
        "    print(f\"Pearson Correlation: {pearson_corr:.4f}\")\n",
        "    print(f\"Spearman Correlation: {spearman_corr:.4f}\")\n",
        "    print(f\"Kendall-Tau Correlation: {kendall_corr:.4f}\")\n",
        "else:\n",
        "    print(\"Errore: Il file Excel deve contenere le colonne 'overall' e 'Prob(Yes)'\")\n"
      ]
    }
  ]
}
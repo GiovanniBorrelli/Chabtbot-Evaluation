{
  "nbformat": 4,
  "nbformat_minor": 0,
  "metadata": {
    "colab": {
      "provenance": [],
      "authorship_tag": "ABX9TyOoerC8dxEpQeKnmQvPumc2",
      "include_colab_link": true
    },
    "kernelspec": {
      "name": "python3",
      "display_name": "Python 3"
    },
    "language_info": {
      "name": "python"
    }
  },
  "cells": [
    {
      "cell_type": "markdown",
      "metadata": {
        "id": "view-in-github",
        "colab_type": "text"
      },
      "source": [
        "<a href=\"https://colab.research.google.com/github/GiovanniBorrelli/Chabtbot-Evaluation/blob/main/Formatting.ipynb\" target=\"_parent\"><img src=\"https://colab.research.google.com/assets/colab-badge.svg\" alt=\"Open In Colab\"/></a>"
      ]
    },
    {
      "cell_type": "code",
      "execution_count": 2,
      "metadata": {
        "colab": {
          "base_uri": "https://localhost:8080/"
        },
        "id": "yHFAQdetyrZV",
        "outputId": "68bc22d3-38a5-45b5-f6d7-3518ec86ffaf"
      },
      "outputs": [
        {
          "output_type": "stream",
          "name": "stdout",
          "text": [
            "File Excel salvato come convai2_data.xlsx\n"
          ]
        }
      ],
      "source": [
        "import json\n",
        "import pandas as pd\n",
        "\n",
        "# Percorso del file JSON (aggiorna se necessario)\n",
        "file_path = \"convai2_data.json\"\n",
        "\n",
        "# Carica i dati JSON\n",
        "with open(file_path, \"r\", encoding=\"utf-8\") as file:\n",
        "    data = json.load(file)\n",
        "\n",
        "# Creazione della lista con i dati desiderati\n",
        "rows = []\n",
        "for item in data:\n",
        "    dialog_id = item.get(\"dialog_id\", \"N/A\")\n",
        "    eval_score = item.get(\"eval_score\", \"N/A\")\n",
        "\n",
        "    # Concatena i messaggi del dialogo in un'unica stringa\n",
        "    dialog_text = \"\\n\".join([f'{msg[\"sender\"]}: {msg[\"text\"]}' for msg in item.get(\"dialog\", [])])\n",
        "\n",
        "    # Aggiungi la riga alla lista\n",
        "    rows.append([dialog_id, dialog_text, eval_score])\n",
        "\n",
        "# Creazione DataFrame\n",
        "df = pd.DataFrame(rows, columns=[\"dialog_id\", \"dialog\", \"eval_score\"])\n",
        "\n",
        "# Salva il DataFrame in un file Excel\n",
        "file_name = \"convai2_data.xlsx\"\n",
        "df.to_excel(file_name, index=False)\n",
        "\n",
        "print(f\"File Excel salvato come {file_name}\")"
      ]
    },
    {
      "cell_type": "code",
      "source": [
        "# Stampa il primo dialogo\n",
        "if not df.empty:\n",
        "    print(f\"Dialog ID: {df.iloc[0]['dialog_id']}\")\n",
        "    print(f\"Eval Score: {df.iloc[0]['eval_score']}\")\n",
        "    print(\"Dialog:\")\n",
        "    print(df.iloc[0]['dialog'])\n",
        "else:\n",
        "    print(\"Nessun dato trovato.\")"
      ],
      "metadata": {
        "colab": {
          "base_uri": "https://localhost:8080/"
        },
        "id": "tCvbAyhcQciA",
        "outputId": "f9a4f8c6-51c0-4127-c6c6-f0659a0c9847"
      },
      "execution_count": 3,
      "outputs": [
        {
          "output_type": "stream",
          "name": "stdout",
          "text": [
            "Dialog ID: 0x35ec8e5\n",
            "Eval Score: 4.0\n",
            "Dialog:\n",
            "participant2: How’s it going?\n",
            "participant1: i listen to rap music. you?\n",
            "participant2: I am a big fan of rap music\n",
            "participant1: What is your favorite singer?\n",
            "participant2: I like to listen to music while I work\n",
            "participant1: Where do you work?\n",
            "participant2: I work in the garden. I own a small house.\n",
            "participant1: Where is your house?\n",
            "participant2: Where's your house?\n",
            "participant1: yes\n",
            "participant2: Mmm.\n",
            "participant1: Where do you live?\n",
            "participant2: I live in the country and you?\n",
            "participant1: Italy. I moved here because I love pizza\n",
            "participant2: I love pizza. I work as an electrician.\n",
            "participant1: Are you male or female?\n",
            "participant2: I'm female. I am an electrician.\n",
            "participant1: Wow you are sexy\n",
            "participant2: I am a plumber. I am an electrician.\n",
            "participant1: How old are you?\n",
            "participant2: I'm a little old.\n",
            "participant1: ok bye\n",
            "participant2: Hi, I am an electrician.\n"
          ]
        }
      ]
    },
    {
      "cell_type": "code",
      "source": [
        "import json\n",
        "import pandas as pd\n",
        "\n",
        "# Percorso del file JSON\n",
        "file_path = \"tc_usr_data.json\"\n",
        "\n",
        "# Carica i dati JSON\n",
        "with open(file_path, \"r\", encoding=\"utf-8\") as file:\n",
        "    data = json.load(file)\n",
        "\n",
        "# Creazione della lista con i dati desiderati\n",
        "rows = []\n",
        "context_id = 1  # Inizializza un ID numerico per il contesto\n",
        "\n",
        "for item in data:\n",
        "    context_text = item.get(\"context\", \"N/A\")\n",
        "\n",
        "    for response_data in item.get(\"responses\", []):\n",
        "        response_text = response_data.get(\"response\", \"N/A\")\n",
        "        overall_scores = response_data.get(\"Overall\", [])\n",
        "\n",
        "        # Calcola la media dei punteggi overall se ci sono valori\n",
        "        if overall_scores:\n",
        "            overall_avg = sum(overall_scores) / len(overall_scores)\n",
        "        else:\n",
        "            overall_avg = \"N/A\"\n",
        "\n",
        "        # Aggiungi la riga alla lista\n",
        "        rows.append([context_id, context_text, response_text, overall_avg])\n",
        "\n",
        "    context_id += 1  # Incrementa l'ID del contesto\n",
        "\n",
        "# Creazione DataFrame\n",
        "df = pd.DataFrame(rows, columns=[\"context_id\", \"context\", \"response\", \"overall\"])\n",
        "\n",
        "# Salva il DataFrame in un file Excel\n",
        "file_name = \"tc_usr_data.xlsx\"\n",
        "df.to_excel(file_name, index=False)\n",
        "print(f\"File Excel salvato come {file_name}\")"
      ],
      "metadata": {
        "colab": {
          "base_uri": "https://localhost:8080/"
        },
        "id": "ndnjjqYTQfnJ",
        "outputId": "1668e51d-c9f8-41b6-e008-cd1b82b90626"
      },
      "execution_count": 4,
      "outputs": [
        {
          "output_type": "stream",
          "name": "stdout",
          "text": [
            "File Excel salvato come tc_usr_data.xlsx\n"
          ]
        }
      ]
    },
    {
      "cell_type": "code",
      "source": [
        "# Stampa la prima risposta se il DataFrame non è vuoto\n",
        "if not df.empty:\n",
        "    print(f\"Context ID: {df.iloc[0]['context_id']}\")\n",
        "    print(f\"Overall Score: {df.iloc[0]['overall']}\")\n",
        "    print(\"Context:\")\n",
        "    print(df.iloc[0]['context'])\n",
        "    print(\"\\nResponse:\")\n",
        "    print(df.iloc[0]['response'])\n",
        "else:\n",
        "    print(\"Nessun dato trovato.\")"
      ],
      "metadata": {
        "colab": {
          "base_uri": "https://localhost:8080/"
        },
        "id": "WtDJqlCbTM-D",
        "outputId": "c44c4ebc-486a-4e64-b2d7-ea4f8e92205b"
      },
      "execution_count": 5,
      "outputs": [
        {
          "output_type": "stream",
          "name": "stdout",
          "text": [
            "Context ID: 1\n",
            "Overall Score: 4.666666666666667\n",
            "Context:\n",
            "so , i 'm reading the latest film from studio ghibli is out the tale of princess kaguya . dunno if you 're familiar with them , but studio ghibli has made a lot of great animated films , like spirited away , and princess mononoke \n",
            " i do n't think i have heard of them . i have heard that one of the directors recently passed away , and his last film was nominated for an academy award \n",
            " yeah , sadly , disney ( which owns the american rights to the films ) does n't tend to promote them very much . i think they 're worried they 'll cut into their \" home grown \" market . anyway , dunno if you even like animated movies , but they 're worth checking out . \n",
            " i do n't watch them very often . apparently there was a showing of the recent film in a park in d.c . that 's one u.s . city i have n't been to \n",
            " sadly , i have n't been to dc either , although i 've always wanted to visit there . apparently there 's a lot of interesting going down this summer . they 're having a crab feast at the navy - marine corps stadium . they 'll have 100 gallons of crab soup ! can you imagine that much soup ? \n",
            "\n",
            "\n",
            "\n",
            "Response:\n",
            "i recently met a girl who lives in that area , and she said the nightlife is worth visiting for . it sounds like many of the events feature jazz music . do you listen to jazz very often ? \n",
            "\n"
          ]
        }
      ]
    }
  ]
}